{
  "cells": [
    {
      "cell_type": "code",
      "execution_count": 1,
      "metadata": {
        "colab": {
          "base_uri": "https://localhost:8080/"
        },
        "id": "a_KW73O2e3dw",
        "outputId": "c6f1022d-5bd3-473d-ae59-9ce04903c3b0"
      },
      "outputs": [
        {
          "output_type": "stream",
          "name": "stdout",
          "text": [
            "\r0% [Working]\r            \rHit:1 https://cloud.r-project.org/bin/linux/ubuntu jammy-cran40/ InRelease\n",
            "Hit:2 https://developer.download.nvidia.com/compute/cuda/repos/ubuntu2204/x86_64  InRelease\n",
            "Get:3 http://security.ubuntu.com/ubuntu jammy-security InRelease [110 kB]\n",
            "Hit:4 http://archive.ubuntu.com/ubuntu jammy InRelease\n",
            "Get:5 http://archive.ubuntu.com/ubuntu jammy-updates InRelease [119 kB]\n",
            "Hit:6 https://ppa.launchpadcontent.net/c2d4u.team/c2d4u4.0+/ubuntu jammy InRelease\n",
            "Hit:7 https://ppa.launchpadcontent.net/deadsnakes/ppa/ubuntu jammy InRelease\n",
            "Hit:8 https://ppa.launchpadcontent.net/graphics-drivers/ppa/ubuntu jammy InRelease\n",
            "Hit:9 http://archive.ubuntu.com/ubuntu jammy-backports InRelease\n",
            "Hit:10 https://ppa.launchpadcontent.net/ubuntugis/ppa/ubuntu jammy InRelease\n",
            "Fetched 229 kB in 2s (115 kB/s)\n",
            "Reading package lists... Done\n"
          ]
        }
      ],
      "source": [
        "import os\n",
        "# Find the latest version of spark 3.x  from https://downloads.apache.org/spark/ and enter as the spark version\n",
        "# For example:\n",
        "# spark_version = 'spark-3.5.1'\n",
        "spark_version = 'spark-3.5.1'\n",
        "os.environ['SPARK_VERSION']=spark_version\n",
        "\n",
        "# Install Spark and Java\n",
        "!apt-get update\n",
        "!apt-get install openjdk-11-jdk-headless -qq > /dev/null\n",
        "!wget -q https://downloads.apache.org/spark/$SPARK_VERSION/$SPARK_VERSION-bin-hadoop3.tgz\n",
        "!tar xf $SPARK_VERSION-bin-hadoop3.tgz\n",
        "!pip install -q findspark\n",
        "\n",
        "# Set Environment Variables\n",
        "os.environ[\"JAVA_HOME\"] = \"/usr/lib/jvm/java-11-openjdk-amd64\"\n",
        "os.environ[\"SPARK_HOME\"] = f\"/content/{spark_version}-bin-hadoop3\"\n",
        "\n",
        "# Start a SparkSession\n",
        "import findspark\n",
        "findspark.init()\n"
      ]
    },
    {
      "cell_type": "code",
      "execution_count": 2,
      "metadata": {
        "id": "2XbWNf1Te5fM"
      },
      "outputs": [],
      "source": [
        "# Import packages\n",
        "from pyspark.sql import SparkSession\n",
        "import time\n",
        "\n",
        "# Create a SparkSession\n",
        "spark = SparkSession.builder.appName(\"SparkSQL\").getOrCreate()"
      ]
    },
    {
      "cell_type": "code",
      "execution_count": 3,
      "metadata": {
        "id": "wOJqxG_RPSwp",
        "colab": {
          "base_uri": "https://localhost:8080/"
        },
        "outputId": "da734f3a-7171-436f-e759-6222e94cd9bf"
      },
      "outputs": [
        {
          "output_type": "stream",
          "name": "stdout",
          "text": [
            "+--------------------+----------+----------+------+--------+---------+-----------+--------+------+----------+----+\n",
            "|                  id|      date|date_built| price|bedrooms|bathrooms|sqft_living|sqft_lot|floors|waterfront|view|\n",
            "+--------------------+----------+----------+------+--------+---------+-----------+--------+------+----------+----+\n",
            "|f8a53099-ba1c-47d...|2022-04-08|      2016|936923|       4|        3|       3167|   11733|     2|         1|  76|\n",
            "|7530a2d8-1ae3-451...|2021-06-13|      2013|379628|       2|        2|       2235|   14384|     1|         0|  23|\n",
            "|43de979c-0bf0-4c9...|2019-04-12|      2014|417866|       2|        2|       2127|   10575|     2|         0|   0|\n",
            "|b672c137-b88c-48b...|2019-10-16|      2016|239895|       2|        2|       1631|   11149|     2|         0|   0|\n",
            "|e0726d4d-d595-407...|2022-01-08|      2017|424418|       3|        2|       2249|   13878|     2|         0|   4|\n",
            "|5aa00529-0533-46b...|2019-01-30|      2017|218712|       2|        3|       1965|   14375|     2|         0|   7|\n",
            "|131492a1-72e2-4a8...|2020-02-08|      2017|419199|       2|        3|       2062|    8876|     2|         0|   6|\n",
            "|8d54a71b-c520-44e...|2019-07-21|      2010|323956|       2|        3|       1506|   11816|     1|         0|  25|\n",
            "|e81aacfe-17fe-46b...|2020-06-16|      2016|181925|       3|        3|       2137|   11709|     2|         0|  22|\n",
            "|2ed8d509-7372-46d...|2021-08-06|      2015|258710|       3|        3|       1918|    9666|     1|         0|  25|\n",
            "|f876d86f-3c9f-42b...|2019-02-27|      2011|167864|       3|        3|       2471|   13924|     2|         0|  15|\n",
            "|0a2bd445-8508-4d8...|2021-12-30|      2014|337527|       2|        3|       1926|   12556|     1|         0|  23|\n",
            "|941bad30-eb49-4a7...|2020-05-09|      2015|229896|       3|        3|       2197|    8641|     1|         0|   3|\n",
            "|dd61eb34-6589-4c0...|2021-07-25|      2016|210247|       3|        2|       1672|   11986|     2|         0|  28|\n",
            "|f1e4cef7-d151-439...|2019-02-01|      2011|398667|       2|        3|       2331|   11356|     1|         0|   7|\n",
            "|ea620c7b-c2f7-4c6...|2021-05-31|      2011|437958|       3|        3|       2356|   11052|     1|         0|  26|\n",
            "|f233cb41-6f33-4b0...|2021-07-18|      2016|437375|       4|        3|       1704|   11721|     2|         0|  34|\n",
            "|c797ca12-52cd-4b1...|2019-06-08|      2015|288650|       2|        3|       2100|   10419|     2|         0|   7|\n",
            "|0cfe57f3-28c2-472...|2019-10-04|      2015|308313|       3|        3|       1960|    9453|     2|         0|   2|\n",
            "|4566cd2a-ac6e-435...|2019-07-15|      2016|177541|       3|        3|       2130|   10517|     2|         0|  25|\n",
            "+--------------------+----------+----------+------+--------+---------+-----------+--------+------+----------+----+\n",
            "only showing top 20 rows\n",
            "\n"
          ]
        }
      ],
      "source": [
        "# 1. Read in the AWS S3 bucket into a DataFrame.\n",
        "from pyspark import SparkFiles\n",
        "url = \"https://2u-data-curriculum-team.s3.amazonaws.com/dataviz-classroom/v1.2/22-big-data/home_sales_revised.csv\"\n",
        "\n",
        "spark.sparkContext.addFile(url)\n",
        "home_sales_df = spark.read.csv(SparkFiles.get(\"home_sales_revised.csv\"), header=True, inferSchema=True, quote=\"\\\"\", escape=\"\\\"\")\n",
        "\n",
        "# Show DataFrame\n",
        "home_sales_df.show()\n",
        "\n"
      ]
    },
    {
      "cell_type": "code",
      "source": [
        "#Data Cleaning to split the date column into the year, month, and day\n",
        "from pyspark.sql.functions import split, col\n",
        "split_date = split(home_sales_df['date'], '-')\n",
        "home_sales_df = home_sales_df.withColumn('year', split_date.getItem(0))\n",
        "home_sales_df = home_sales_df.withColumn('month', split_date.getItem(1))\n",
        "home_sales_df = home_sales_df.withColumn('day', split_date.getItem(2))\n",
        "\n",
        "home_sales_df.show()"
      ],
      "metadata": {
        "colab": {
          "base_uri": "https://localhost:8080/"
        },
        "id": "Ph9wxg5eIZbB",
        "outputId": "ae07949e-fde6-4b32-d88b-388693b366db"
      },
      "execution_count": 4,
      "outputs": [
        {
          "output_type": "stream",
          "name": "stdout",
          "text": [
            "+--------------------+----------+----------+------+--------+---------+-----------+--------+------+----------+----+----+-----+---+\n",
            "|                  id|      date|date_built| price|bedrooms|bathrooms|sqft_living|sqft_lot|floors|waterfront|view|year|month|day|\n",
            "+--------------------+----------+----------+------+--------+---------+-----------+--------+------+----------+----+----+-----+---+\n",
            "|f8a53099-ba1c-47d...|2022-04-08|      2016|936923|       4|        3|       3167|   11733|     2|         1|  76|2022|   04| 08|\n",
            "|7530a2d8-1ae3-451...|2021-06-13|      2013|379628|       2|        2|       2235|   14384|     1|         0|  23|2021|   06| 13|\n",
            "|43de979c-0bf0-4c9...|2019-04-12|      2014|417866|       2|        2|       2127|   10575|     2|         0|   0|2019|   04| 12|\n",
            "|b672c137-b88c-48b...|2019-10-16|      2016|239895|       2|        2|       1631|   11149|     2|         0|   0|2019|   10| 16|\n",
            "|e0726d4d-d595-407...|2022-01-08|      2017|424418|       3|        2|       2249|   13878|     2|         0|   4|2022|   01| 08|\n",
            "|5aa00529-0533-46b...|2019-01-30|      2017|218712|       2|        3|       1965|   14375|     2|         0|   7|2019|   01| 30|\n",
            "|131492a1-72e2-4a8...|2020-02-08|      2017|419199|       2|        3|       2062|    8876|     2|         0|   6|2020|   02| 08|\n",
            "|8d54a71b-c520-44e...|2019-07-21|      2010|323956|       2|        3|       1506|   11816|     1|         0|  25|2019|   07| 21|\n",
            "|e81aacfe-17fe-46b...|2020-06-16|      2016|181925|       3|        3|       2137|   11709|     2|         0|  22|2020|   06| 16|\n",
            "|2ed8d509-7372-46d...|2021-08-06|      2015|258710|       3|        3|       1918|    9666|     1|         0|  25|2021|   08| 06|\n",
            "|f876d86f-3c9f-42b...|2019-02-27|      2011|167864|       3|        3|       2471|   13924|     2|         0|  15|2019|   02| 27|\n",
            "|0a2bd445-8508-4d8...|2021-12-30|      2014|337527|       2|        3|       1926|   12556|     1|         0|  23|2021|   12| 30|\n",
            "|941bad30-eb49-4a7...|2020-05-09|      2015|229896|       3|        3|       2197|    8641|     1|         0|   3|2020|   05| 09|\n",
            "|dd61eb34-6589-4c0...|2021-07-25|      2016|210247|       3|        2|       1672|   11986|     2|         0|  28|2021|   07| 25|\n",
            "|f1e4cef7-d151-439...|2019-02-01|      2011|398667|       2|        3|       2331|   11356|     1|         0|   7|2019|   02| 01|\n",
            "|ea620c7b-c2f7-4c6...|2021-05-31|      2011|437958|       3|        3|       2356|   11052|     1|         0|  26|2021|   05| 31|\n",
            "|f233cb41-6f33-4b0...|2021-07-18|      2016|437375|       4|        3|       1704|   11721|     2|         0|  34|2021|   07| 18|\n",
            "|c797ca12-52cd-4b1...|2019-06-08|      2015|288650|       2|        3|       2100|   10419|     2|         0|   7|2019|   06| 08|\n",
            "|0cfe57f3-28c2-472...|2019-10-04|      2015|308313|       3|        3|       1960|    9453|     2|         0|   2|2019|   10| 04|\n",
            "|4566cd2a-ac6e-435...|2019-07-15|      2016|177541|       3|        3|       2130|   10517|     2|         0|  25|2019|   07| 15|\n",
            "+--------------------+----------+----------+------+--------+---------+-----------+--------+------+----------+----+----+-----+---+\n",
            "only showing top 20 rows\n",
            "\n"
          ]
        }
      ]
    },
    {
      "cell_type": "code",
      "execution_count": 5,
      "metadata": {
        "id": "RoljcJ7WPpnm"
      },
      "outputs": [],
      "source": [
        "# 2. Create a temporary view of the DataFrame.\n",
        "sales = home_sales_df.createOrReplaceTempView('sales')\n"
      ]
    },
    {
      "cell_type": "code",
      "source": [],
      "metadata": {
        "id": "1pj-YBpYIO9R"
      },
      "execution_count": null,
      "outputs": []
    },
    {
      "cell_type": "code",
      "execution_count": 6,
      "metadata": {
        "id": "L6fkwOeOmqvq",
        "colab": {
          "base_uri": "https://localhost:8080/"
        },
        "outputId": "b173d6da-1c67-4b62-e220-4eff83fcb382"
      },
      "outputs": [
        {
          "output_type": "stream",
          "name": "stdout",
          "text": [
            "+--------------------+----------+----------+------+--------+---------+-----------+--------+------+----------+----+----+-----+---+\n",
            "|                  id|      date|date_built| price|bedrooms|bathrooms|sqft_living|sqft_lot|floors|waterfront|view|year|month|day|\n",
            "+--------------------+----------+----------+------+--------+---------+-----------+--------+------+----------+----+----+-----+---+\n",
            "|f8a53099-ba1c-47d...|2022-04-08|      2016|936923|       4|        3|       3167|   11733|     2|         1|  76|2022|   04| 08|\n",
            "|f233cb41-6f33-4b0...|2021-07-18|      2016|437375|       4|        3|       1704|   11721|     2|         0|  34|2021|   07| 18|\n",
            "|2dc662fe-57b8-44b...|2020-04-20|      2016|417215|       4|        2|       2104|    8227|     2|         0|  48|2020|   04| 20|\n",
            "|d5f2062a-8950-417...|2019-09-02|      2016|305980|       4|        2|       1799|   13004|     1|         0|  26|2019|   09| 02|\n",
            "|f5e01433-f7b0-44e...|2021-03-10|      2010|335326|       4|        3|       1588|   14107|     1|         0|   8|2021|   03| 10|\n",
            "|a818abe9-fec6-48d...|2019-08-20|      2017|334284|       4|        2|       2378|   12034|     2|         0|  38|2019|   08| 20|\n",
            "|513c8016-c85b-4f6...|2019-04-13|      2016|138006|       4|        2|       1780|   14211|     2|         0|  12|2019|   04| 13|\n",
            "|7ac67498-b6f3-403...|2021-05-12|      2015|349318|       4|        3|       2417|   11304|     2|         0|  37|2021|   05| 12|\n",
            "|5a55a233-f534-407...|2020-07-21|      2011|288365|       4|        2|       1643|   14886|     2|         0|  29|2020|   07| 21|\n",
            "|ae3b0e50-4238-421...|2019-10-13|      2013|299056|       4|        3|       1613|   11634|     2|         0|  17|2019|   10| 13|\n",
            "|f99463dd-c04f-4c4...|2020-08-31|      2014|232702|       4|        2|       1717|    9138|     1|         0|  19|2020|   08| 31|\n",
            "|ffc3b5af-2180-445...|2020-07-20|      2012|301886|       4|        2|       2387|   10259|     2|         0|  41|2020|   07| 20|\n",
            "|ddf82ffe-df12-477...|2020-02-06|      2014|268775|       4|        3|       2413|    8383|     2|         0|   8|2020|   02| 06|\n",
            "|be0ccb95-415d-411...|2020-05-15|      2015|425154|       4|        3|       2120|   14229|     2|         0|   4|2020|   05| 15|\n",
            "|1ce21d55-2744-432...|2022-03-30|      2014|266254|       4|        2|       1661|   11223|     1|         0|  40|2022|   03| 30|\n",
            "|8e05076c-0c64-429...|2022-06-03|      2011|381358|       4|        3|       2190|   13460|     1|         0|  46|2022|   06| 03|\n",
            "|fd8213d0-3872-4de...|2020-04-23|      2017|858900|       4|        5|       4465|    9873|     1|         1|  53|2020|   04| 23|\n",
            "|e9031a86-1294-444...|2021-10-09|      2015|222322|       4|        3|       1928|   10510|     1|         0|  38|2021|   10| 09|\n",
            "|731d14ac-9dd1-4e5...|2021-03-27|      2011|323749|       4|        2|       2427|   14387|     2|         0|  21|2021|   03| 27|\n",
            "|e6d7c2a7-596e-4ec...|2019-03-15|      2015|131201|       4|        3|       1633|   14655|     1|         0|  22|2019|   03| 15|\n",
            "+--------------------+----------+----------+------+--------+---------+-----------+--------+------+----------+----+----+-----+---+\n",
            "only showing top 20 rows\n",
            "\n"
          ]
        }
      ],
      "source": [
        "# 3. What is the average price for a four bedroom house sold per year, rounded to two decimal places?\n",
        "four_bedroom_df = spark.sql(\"SELECT * FROM sales WHERE bedrooms = 4\")\n",
        "four_bedroom_df.show()"
      ]
    },
    {
      "cell_type": "code",
      "source": [
        "# 3. Create a temporary view of the DataFrame.\n",
        "four_bedroom = four_bedroom_df.createOrReplaceTempView('four_bedroom')"
      ],
      "metadata": {
        "id": "eamapafaMyc2"
      },
      "execution_count": 7,
      "outputs": []
    },
    {
      "cell_type": "code",
      "source": [
        "# 3. Using the four_bedroom_df sorted dataframe, the average price of the house will be calculated per year\n",
        "spark.sql(\"\"\"SELECT year, round(mean(price),2) FROM four_bedroom\n",
        "              Group By year Order By year desc \"\"\").show()\n"
      ],
      "metadata": {
        "colab": {
          "base_uri": "https://localhost:8080/"
        },
        "id": "Oe63SVpOGNko",
        "outputId": "4c07e9ec-0f5b-45f7-a0ec-a9ed78dec115"
      },
      "execution_count": 9,
      "outputs": [
        {
          "output_type": "stream",
          "name": "stdout",
          "text": [
            "+----+---------------------+\n",
            "|year|round(mean(price), 2)|\n",
            "+----+---------------------+\n",
            "|2022|            296363.88|\n",
            "|2021|            301819.44|\n",
            "|2020|            298353.78|\n",
            "|2019|             300263.7|\n",
            "+----+---------------------+\n",
            "\n"
          ]
        }
      ]
    },
    {
      "cell_type": "code",
      "execution_count": 10,
      "metadata": {
        "id": "l8p_tUS8h8it",
        "colab": {
          "base_uri": "https://localhost:8080/"
        },
        "outputId": "59f504b4-9913-44e7-8fe4-38a775874e13"
      },
      "outputs": [
        {
          "output_type": "stream",
          "name": "stdout",
          "text": [
            "+--------------------+----------+----------+------+--------+---------+-----------+--------+------+----------+----+----+-----+---+\n",
            "|                  id|      date|date_built| price|bedrooms|bathrooms|sqft_living|sqft_lot|floors|waterfront|view|year|month|day|\n",
            "+--------------------+----------+----------+------+--------+---------+-----------+--------+------+----------+----+----+-----+---+\n",
            "|e81aacfe-17fe-46b...|2020-06-16|      2016|181925|       3|        3|       2137|   11709|     2|         0|  22|2020|   06| 16|\n",
            "|2ed8d509-7372-46d...|2021-08-06|      2015|258710|       3|        3|       1918|    9666|     1|         0|  25|2021|   08| 06|\n",
            "|f876d86f-3c9f-42b...|2019-02-27|      2011|167864|       3|        3|       2471|   13924|     2|         0|  15|2019|   02| 27|\n",
            "|941bad30-eb49-4a7...|2020-05-09|      2015|229896|       3|        3|       2197|    8641|     1|         0|   3|2020|   05| 09|\n",
            "|ea620c7b-c2f7-4c6...|2021-05-31|      2011|437958|       3|        3|       2356|   11052|     1|         0|  26|2021|   05| 31|\n",
            "|0cfe57f3-28c2-472...|2019-10-04|      2015|308313|       3|        3|       1960|    9453|     2|         0|   2|2019|   10| 04|\n",
            "|4566cd2a-ac6e-435...|2019-07-15|      2016|177541|       3|        3|       2130|   10517|     2|         0|  25|2019|   07| 15|\n",
            "|50873b8b-92b8-44c...|2022-06-05|      2017|268554|       3|        3|       1962|   13955|     2|         0|   6|2022|   06| 05|\n",
            "|e0fc52aa-c349-4ba...|2019-04-17|      2016|202790|       3|        3|       2025|   10987|     2|         0|  19|2019|   04| 17|\n",
            "|e252c4ce-b5b2-4ef...|2019-10-28|      2014|168463|       3|        3|       2271|    8317|     2|         0|   2|2019|   10| 28|\n",
            "|a16c1fd3-50c3-4e7...|2020-02-12|      2014|372151|       3|        3|       1787|   12012|     2|         0|  16|2020|   02| 12|\n",
            "|0ffe23e3-9d0f-442...|2021-11-18|      2017|429183|       3|        3|       2162|   12567|     1|         0|  49|2021|   11| 18|\n",
            "|bb2ff269-f08f-4e8...|2022-03-06|      2010|429030|       3|        3|       2049|   11882|     2|         0|  23|2022|   03| 06|\n",
            "|77a2d239-67a3-43b...|2021-06-18|      2016|396508|       3|        3|       1890|   10081|     2|         0|  25|2021|   06| 18|\n",
            "|34c31a34-220d-469...|2019-02-06|      2015|409011|       3|        3|       2356|   10507|     1|         0|   1|2019|   02| 06|\n",
            "|7acb88a1-8a4f-4a7...|2019-03-31|      2016|351363|       3|        3|       1771|   13037|     2|         0|  13|2019|   03| 31|\n",
            "|d03391c1-cfd4-4d1...|2022-04-01|      2011|158791|       3|        3|       2371|   12585|     2|         0|  23|2022|   04| 01|\n",
            "|0c686512-f14e-450...|2022-06-12|      2013|391189|       3|        3|       1552|    9659|     2|         0|  31|2022|   06| 12|\n",
            "|24ba1e84-88a6-4e3...|2019-09-17|      2017|207869|       3|        3|       1768|   11426|     1|         0|  12|2019|   09| 17|\n",
            "|00ce46df-952c-4ce...|2020-05-11|      2016|430471|       3|        3|       1935|   13334|     2|         0|  10|2020|   05| 11|\n",
            "+--------------------+----------+----------+------+--------+---------+-----------+--------+------+----------+----+----+-----+---+\n",
            "only showing top 20 rows\n",
            "\n"
          ]
        }
      ],
      "source": [
        "# 4. What is the average price of a home for each year the home was built,\n",
        "# that have 3 bedrooms and 3 bathrooms, rounded to two decimal places?\n",
        "\n",
        "three_bedroom_df = spark.sql(\"SELECT * from sales WHERE bedrooms = 3 AND bathrooms = 3\")\n",
        "three_bedroom_df.show()"
      ]
    },
    {
      "cell_type": "code",
      "source": [
        "#Create a temporary view for the three bedroom and three bathroom dataframe\n",
        "three_bedroom = three_bedroom_df.createOrReplaceTempView('three_bedroom')"
      ],
      "metadata": {
        "id": "iQ5xSCG8PufJ"
      },
      "execution_count": 11,
      "outputs": []
    },
    {
      "cell_type": "code",
      "source": [
        "# 4. Calculating the average home price from the three_bedroom_df and 3 bathrooms by the year the house was built\n",
        "spark.sql(\"\"\"SELECT date_built, round(mean(price),2) FROM three_bedroom\n",
        "              Group By date_built Order By date_built desc \"\"\").show()"
      ],
      "metadata": {
        "colab": {
          "base_uri": "https://localhost:8080/"
        },
        "id": "YSxV4GcnGMKZ",
        "outputId": "4fbac43d-40ea-4b0a-a1ed-e5b0a2bb2eaa"
      },
      "execution_count": 12,
      "outputs": [
        {
          "output_type": "stream",
          "name": "stdout",
          "text": [
            "+----------+---------------------+\n",
            "|date_built|round(mean(price), 2)|\n",
            "+----------+---------------------+\n",
            "|      2017|            292676.79|\n",
            "|      2016|            290555.07|\n",
            "|      2015|             288770.3|\n",
            "|      2014|            290852.27|\n",
            "|      2013|            295962.27|\n",
            "|      2012|            293683.19|\n",
            "|      2011|            291117.47|\n",
            "|      2010|            292859.62|\n",
            "+----------+---------------------+\n",
            "\n"
          ]
        }
      ]
    },
    {
      "cell_type": "code",
      "execution_count": 13,
      "metadata": {
        "id": "Y-Eytz64liDU",
        "colab": {
          "base_uri": "https://localhost:8080/"
        },
        "outputId": "262a2890-764b-4912-b222-a593154a3115"
      },
      "outputs": [
        {
          "output_type": "stream",
          "name": "stdout",
          "text": [
            "+--------------------+----------+----------+------+--------+---------+-----------+--------+------+----------+----+----+-----+---+\n",
            "|                  id|      date|date_built| price|bedrooms|bathrooms|sqft_living|sqft_lot|floors|waterfront|view|year|month|day|\n",
            "+--------------------+----------+----------+------+--------+---------+-----------+--------+------+----------+----+----+-----+---+\n",
            "|e81aacfe-17fe-46b...|2020-06-16|      2016|181925|       3|        3|       2137|   11709|     2|         0|  22|2020|   06| 16|\n",
            "|f876d86f-3c9f-42b...|2019-02-27|      2011|167864|       3|        3|       2471|   13924|     2|         0|  15|2019|   02| 27|\n",
            "|4566cd2a-ac6e-435...|2019-07-15|      2016|177541|       3|        3|       2130|   10517|     2|         0|  25|2019|   07| 15|\n",
            "|e0fc52aa-c349-4ba...|2019-04-17|      2016|202790|       3|        3|       2025|   10987|     2|         0|  19|2019|   04| 17|\n",
            "|e252c4ce-b5b2-4ef...|2019-10-28|      2014|168463|       3|        3|       2271|    8317|     2|         0|   2|2019|   10| 28|\n",
            "|bb2ff269-f08f-4e8...|2022-03-06|      2010|429030|       3|        3|       2049|   11882|     2|         0|  23|2022|   03| 06|\n",
            "|d03391c1-cfd4-4d1...|2022-04-01|      2011|158791|       3|        3|       2371|   12585|     2|         0|  23|2022|   04| 01|\n",
            "|2792bb6d-ea02-4e2...|2021-02-09|      2010|360444|       3|        3|       2383|   12503|     2|         0|  29|2021|   02| 09|\n",
            "|1fc8277d-ac34-424...|2022-04-26|      2017|254527|       3|        3|       2226|   14060|     2|         0|  42|2022|   04| 26|\n",
            "|c2be38fb-814a-403...|2020-03-20|      2015|352237|       3|        3|       2485|   10954|     2|         0|   6|2020|   03| 20|\n",
            "|a4a1a614-ad3c-4f8...|2021-01-11|      2015|425489|       3|        3|       2051|    9161|     2|         0|  26|2021|   01| 11|\n",
            "|ce519c6e-701a-4a2...|2022-03-05|      2015|236997|       3|        3|       2487|   11245|     2|         0|  21|2022|   03| 05|\n",
            "|6538df3c-c572-462...|2022-06-09|      2016|267870|       3|        3|       2472|   14278|     2|         0|  41|2022|   06| 09|\n",
            "|35b76ec7-acb2-414...|2019-10-25|      2011|395216|       3|        3|       2262|   14606|     2|         0|  29|2019|   10| 25|\n",
            "|f90159cd-a594-476...|2021-05-26|      2012|370767|       3|        3|       2377|   11272|     2|         0|  12|2021|   05| 26|\n",
            "|e465b697-4836-4b1...|2019-01-05|      2015|134866|       3|        3|       2349|   11703|     2|         0|  40|2019|   01| 05|\n",
            "|2d14ecd6-8bf4-4ff...|2021-12-17|      2016|374508|       3|        3|       2025|   14006|     2|         0|  17|2021|   12| 17|\n",
            "|c97e7ca7-ae79-4c8...|2022-03-10|      2014|351896|       3|        3|       2008|    9974|     2|         0|  29|2022|   03| 10|\n",
            "|ffff94aa-797c-49e...|2019-07-18|      2010|402063|       3|        3|       2148|   11188|     2|         0|  15|2019|   07| 18|\n",
            "|b377baf4-cc12-4bd...|2019-08-25|      2017|317951|       3|        3|       2355|   11386|     2|         0|  11|2019|   08| 25|\n",
            "+--------------------+----------+----------+------+--------+---------+-----------+--------+------+----------+----+----+-----+---+\n",
            "only showing top 20 rows\n",
            "\n"
          ]
        }
      ],
      "source": [
        "# 5. What is the average price of a home for each year the home was built,\n",
        "# that have 3 bedrooms, 3 bathrooms, with two floors,\n",
        "# and are greater than or equal to 2,000 square feet, rounded to two decimal places?\n",
        "three_bed_two_floors = spark.sql(\"SELECT * from three_bedroom WHERE floors=2 AND sqft_living>=2000\")\n",
        "three_bed_two_floors.show()"
      ]
    },
    {
      "cell_type": "code",
      "source": [
        "#Create a temporary view for the three bedroom and three bathroom dataframe\n",
        "three_bedroom_two_floors = three_bed_two_floors.createOrReplaceTempView('three_bed_two_floors')"
      ],
      "metadata": {
        "id": "vyh3Bl4KMO-e"
      },
      "execution_count": 14,
      "outputs": []
    },
    {
      "cell_type": "code",
      "source": [
        "#Average price of homes that have 3 bedrooms, 3 bathrooms, 2 floors, and greater than or equal to 2000 sqaure feet by date built\n",
        "\n",
        "spark.sql(\"\"\"SELECT date_built, round(mean(price),2) FROM three_bed_two_floors\n",
        "              Group By date_built Order By date_built desc \"\"\").show()"
      ],
      "metadata": {
        "colab": {
          "base_uri": "https://localhost:8080/"
        },
        "id": "LR6-zaJwLrhh",
        "outputId": "2d91b7bc-0bde-4acb-8a83-d514f2e32d87"
      },
      "execution_count": 15,
      "outputs": [
        {
          "output_type": "stream",
          "name": "stdout",
          "text": [
            "+----------+---------------------+\n",
            "|date_built|round(mean(price), 2)|\n",
            "+----------+---------------------+\n",
            "|      2017|            280317.58|\n",
            "|      2016|             293965.1|\n",
            "|      2015|            297609.97|\n",
            "|      2014|            298264.72|\n",
            "|      2013|            303676.79|\n",
            "|      2012|            307539.97|\n",
            "|      2011|            276553.81|\n",
            "|      2010|            285010.22|\n",
            "+----------+---------------------+\n",
            "\n"
          ]
        }
      ]
    },
    {
      "cell_type": "code",
      "execution_count": null,
      "metadata": {
        "colab": {
          "base_uri": "https://localhost:8080/"
        },
        "id": "GUrfgOX1pCRd",
        "outputId": "0a645986-7179-440c-c0bc-345f1693f8af"
      },
      "outputs": [
        {
          "name": "stdout",
          "output_type": "stream",
          "text": [
            "--- 7.200241088867188e-05 seconds ---\n"
          ]
        }
      ],
      "source": [
        "# 6. What is the average price of a home per \"view\" rating, rounded to two decimal places,\n",
        "# having an average home price greater than or equal to $350,000? Order by descending view rating.\n",
        "# Although this is a small dataset, determine the run time for this query.\n",
        "\n",
        "start_time = time.time()\n",
        "\n",
        "\n",
        "\n",
        "print(\"--- %s seconds ---\" % (time.time() - start_time))"
      ]
    },
    {
      "cell_type": "code",
      "execution_count": null,
      "metadata": {
        "id": "KAhk3ZD2tFy8"
      },
      "outputs": [],
      "source": [
        "# 7. Cache the the temporary table home_sales.\n"
      ]
    },
    {
      "cell_type": "code",
      "execution_count": null,
      "metadata": {
        "id": "4opVhbvxtL-i"
      },
      "outputs": [],
      "source": [
        "# 8. Check if the table is cached.\n",
        "spark.catalog.isCached('home_sales')"
      ]
    },
    {
      "cell_type": "code",
      "execution_count": null,
      "metadata": {
        "colab": {
          "base_uri": "https://localhost:8080/"
        },
        "id": "5GnL46lwTSEk",
        "outputId": "63c7dc50-d96a-4a48-97b6-91a446cdb973"
      },
      "outputs": [
        {
          "name": "stdout",
          "output_type": "stream",
          "text": [
            "--- 5.459785461425781e-05 seconds ---\n"
          ]
        }
      ],
      "source": [
        "# 9. Using the cached data, run the last query above, that calculates\n",
        "# the average price of a home per \"view\" rating, rounded to two decimal places,\n",
        "# having an average home price greater than or equal to $350,000.\n",
        "# Determine the runtime and compare it to the uncached runtime.\n",
        "\n",
        "start_time = time.time()\n",
        "\n",
        "\n",
        "\n",
        "print(\"--- %s seconds ---\" % (time.time() - start_time))\n"
      ]
    },
    {
      "cell_type": "code",
      "execution_count": null,
      "metadata": {
        "id": "Qm12WN9isHBR"
      },
      "outputs": [],
      "source": [
        "# 10. Partition by the \"date_built\" field on the formatted parquet home sales data\n"
      ]
    },
    {
      "cell_type": "code",
      "execution_count": null,
      "metadata": {
        "id": "AZ7BgY61sRqY"
      },
      "outputs": [],
      "source": [
        "# 11. Read the parquet formatted data.\n"
      ]
    },
    {
      "cell_type": "code",
      "execution_count": null,
      "metadata": {
        "id": "J6MJkHfvVcvh"
      },
      "outputs": [],
      "source": [
        "# 12. Create a temporary table for the parquet data.\n"
      ]
    },
    {
      "cell_type": "code",
      "execution_count": null,
      "metadata": {
        "colab": {
          "base_uri": "https://localhost:8080/"
        },
        "id": "G_Vhb52rU1Sn",
        "outputId": "d6748ea6-d70a-41fd-dcb8-c214a85e949e"
      },
      "outputs": [
        {
          "name": "stdout",
          "output_type": "stream",
          "text": [
            "--- 7.104873657226562e-05 seconds ---\n"
          ]
        }
      ],
      "source": [
        "# 13. Using the parquet DataFrame, run the last query above, that calculates\n",
        "# the average price of a home per \"view\" rating, rounded to two decimal places,\n",
        "# having an average home price greater than or equal to $350,000.\n",
        "# Determine the runtime and compare it to the cached runtime.\n",
        "\n",
        "start_time = time.time()\n",
        "\n",
        "\n",
        "\n",
        "print(\"--- %s seconds ---\" % (time.time() - start_time))"
      ]
    },
    {
      "cell_type": "code",
      "execution_count": null,
      "metadata": {
        "id": "hjjYzQGjtbq8"
      },
      "outputs": [],
      "source": [
        "# 14. Uncache the home_sales temporary table.\n"
      ]
    },
    {
      "cell_type": "code",
      "execution_count": null,
      "metadata": {
        "id": "Sy9NBvO7tlmm"
      },
      "outputs": [],
      "source": [
        "# 15. Check if the home_sales is no longer cached\n",
        "\n"
      ]
    },
    {
      "cell_type": "code",
      "execution_count": null,
      "metadata": {
        "id": "Si-BNruRUGK3"
      },
      "outputs": [],
      "source": []
    }
  ],
  "metadata": {
    "colab": {
      "provenance": []
    },
    "gpuClass": "standard",
    "kernelspec": {
      "display_name": "Python 3 (ipykernel)",
      "language": "python",
      "name": "python3"
    },
    "language_info": {
      "codemirror_mode": {
        "name": "ipython",
        "version": 3
      },
      "file_extension": ".py",
      "mimetype": "text/x-python",
      "name": "python",
      "nbconvert_exporter": "python",
      "pygments_lexer": "ipython3",
      "version": "3.10.4"
    },
    "nteract": {
      "version": "0.28.0"
    }
  },
  "nbformat": 4,
  "nbformat_minor": 0
}